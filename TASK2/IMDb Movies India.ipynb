{
 "cells": [
  {
   "cell_type": "code",
   "execution_count": 1,
   "id": "6cd5c003-81a1-430c-b393-cca9cc1a0a5e",
   "metadata": {},
   "outputs": [],
   "source": [
    "import pandas as pd\n",
    "import numpy as np\n",
    "from sklearn.model_selection import train_test_split\n",
    "from sklearn.preprocessing import OrdinalEncoder\n",
    "from sklearn.ensemble import RandomForestRegressor\n",
    "from sklearn.metrics import mean_absolute_error"
   ]
  },
  {
   "cell_type": "code",
   "execution_count": 10,
   "id": "3bcf6270-9119-4ac9-9582-1b4dac708dd3",
   "metadata": {},
   "outputs": [],
   "source": [
    "# Project: Movie Rating Prediction\n",
    "# Objective: Predict the IMDb rating of a movie based on features like genre, director, and actors.\n",
    "\n",
    "# Load the dataset\n",
    "file_path = \"IMDb Movies India.csv\"  # Update if needed\n",
    "df = pd.read_csv(r'C:\\Users\\MANSI\\Documents\\task\\IMDb Movies India.csv\\IMDb Movies India.csv', encoding=\"ISO-8859-1\")"
   ]
  },
  {
   "cell_type": "code",
   "execution_count": 11,
   "id": "ead6c34d-7a47-436a-b500-688ca2d53419",
   "metadata": {},
   "outputs": [
    {
     "name": "stdout",
     "output_type": "stream",
     "text": [
      "Initial dataset shape: (15509, 10)\n"
     ]
    }
   ],
   "source": [
    "# Data Preprocessing\n",
    "print(\"Initial dataset shape:\", df.shape)"
   ]
  },
  {
   "cell_type": "code",
   "execution_count": 12,
   "id": "f5ed6a0c-9d61-485c-83a7-e20d9d4648ae",
   "metadata": {},
   "outputs": [
    {
     "name": "stdout",
     "output_type": "stream",
     "text": [
      "Dataset shape after dropping missing ratings: (7919, 10)\n"
     ]
    }
   ],
   "source": [
    "# Drop rows with missing target values (Rating)\n",
    "df = df.dropna(subset=[\"Rating\"])\n",
    "print(\"Dataset shape after dropping missing ratings:\", df.shape)"
   ]
  },
  {
   "cell_type": "code",
   "execution_count": 13,
   "id": "574e37ad-e882-49a5-abce-b67584f34827",
   "metadata": {},
   "outputs": [],
   "source": [
    "# Fill missing values in categorical columns\n",
    "categorical_cols = [\"Genre\", \"Director\", \"Actor 1\", \"Actor 2\", \"Actor 3\"]\n",
    "df[categorical_cols] = df[categorical_cols].fillna(\"Unknown\")"
   ]
  },
  {
   "cell_type": "code",
   "execution_count": 14,
   "id": "d0b27c65-e47d-444a-86b7-2ac6e0eea1d5",
   "metadata": {},
   "outputs": [],
   "source": [
    "# Convert 'Votes' to numeric and handle missing values\n",
    "df[\"Votes\"] = pd.to_numeric(df[\"Votes\"], errors=\"coerce\").fillna(0)"
   ]
  },
  {
   "cell_type": "code",
   "execution_count": 15,
   "id": "2fac6fe4-69d5-4de1-955e-4d196b50dff9",
   "metadata": {},
   "outputs": [],
   "source": [
    "# Extract numerical and categorical features\n",
    "X_numeric = df[[\"Votes\"]]\n",
    "y = df[\"Rating\"].astype(float)"
   ]
  },
  {
   "cell_type": "code",
   "execution_count": 16,
   "id": "8f12f52f-3bd8-4d2f-9038-2f09d1e5f58d",
   "metadata": {},
   "outputs": [],
   "source": [
    "# Apply Ordinal Encoding to categorical features\n",
    "ordinal_encoder = OrdinalEncoder(handle_unknown=\"use_encoded_value\", unknown_value=-1)\n",
    "X_categorical = ordinal_encoder.fit_transform(df[categorical_cols])"
   ]
  },
  {
   "cell_type": "code",
   "execution_count": 17,
   "id": "9fc55169-f7e8-4332-aa24-be59e0a39966",
   "metadata": {},
   "outputs": [],
   "source": [
    "# Combine numerical and categorical features\n",
    "X = np.hstack((X_numeric, X_categorical))"
   ]
  },
  {
   "cell_type": "code",
   "execution_count": 18,
   "id": "8f2670d3-394f-4079-bcc7-a1f5e3ee02f7",
   "metadata": {},
   "outputs": [
    {
     "name": "stdout",
     "output_type": "stream",
     "text": [
      "Training set size: (6335, 6)\n",
      "Testing set size: (1584, 6)\n"
     ]
    }
   ],
   "source": [
    "# Split data into training and testing sets\n",
    "X_train, X_test, y_train, y_test = train_test_split(X, y, test_size=0.2, random_state=42)\n",
    "print(\"Training set size:\", X_train.shape)\n",
    "print(\"Testing set size:\", X_test.shape)"
   ]
  },
  {
   "cell_type": "code",
   "execution_count": 19,
   "id": "53a32d3f-b869-4edf-b273-10fd584b4493",
   "metadata": {},
   "outputs": [
    {
     "name": "stdout",
     "output_type": "stream",
     "text": [
      "Training the RandomForestRegressor model...\n",
      "Model training completed.\n"
     ]
    }
   ],
   "source": [
    "# Model Training\n",
    "print(\"Training the RandomForestRegressor model...\")\n",
    "model = RandomForestRegressor(n_estimators=100, random_state=42)\n",
    "model.fit(X_train, y_train)\n",
    "print(\"Model training completed.\")"
   ]
  },
  {
   "cell_type": "code",
   "execution_count": 20,
   "id": "c6b6180d-01d0-4e01-b1ac-4a091be9d81e",
   "metadata": {},
   "outputs": [
    {
     "name": "stdout",
     "output_type": "stream",
     "text": [
      "Model Mean Absolute Error (MAE): 0.99\n"
     ]
    }
   ],
   "source": [
    "# Model Evaluation\n",
    "y_pred = model.predict(X_test)\n",
    "mae = mean_absolute_error(y_test, y_pred)\n",
    "print(f\"Model Mean Absolute Error (MAE): {mae:.2f}\")"
   ]
  },
  {
   "cell_type": "code",
   "execution_count": 21,
   "id": "78daabd2-4576-46d9-a448-faec53702997",
   "metadata": {},
   "outputs": [
    {
     "name": "stdout",
     "output_type": "stream",
     "text": [
      "\n",
      "Example Movie Prediction\n",
      "Predicted Movie Rating: 4.70\n"
     ]
    }
   ],
   "source": [
    "# Example Movie Prediction\n",
    "print(\"\\nExample Movie Prediction\")\n",
    "example_movie = np.array([[50000, 1, 10, 50, 100, 200]])  # Example input\n",
    "predicted_rating = model.predict(example_movie)[0]\n",
    "print(f\"Predicted Movie Rating: {predicted_rating:.2f}\")"
   ]
  },
  {
   "cell_type": "code",
   "execution_count": 22,
   "id": "300881c3-714a-4514-82e1-0aa03d0a5a2a",
   "metadata": {},
   "outputs": [
    {
     "name": "stdout",
     "output_type": "stream",
     "text": [
      "\n",
      "Project Summary:\n",
      "- The model was trained using IMDb movie data.\n",
      "- Features like genre, director, and actors were encoded using ordinal encoding.\n",
      "- A RandomForestRegressor was used to predict movie ratings.\n",
      "- The model achieved an MAE of 0.99, indicating reasonable prediction accuracy.\n",
      "- The model can be further improved with more features and hyperparameter tuning.\n"
     ]
    }
   ],
   "source": [
    "# Conclusion\n",
    "print(\"\\nProject Summary:\")\n",
    "print(\"- The model was trained using IMDb movie data.\")\n",
    "print(\"- Features like genre, director, and actors were encoded using ordinal encoding.\")\n",
    "print(\"- A RandomForestRegressor was used to predict movie ratings.\")\n",
    "print(f\"- The model achieved an MAE of {mae:.2f}, indicating reasonable prediction accuracy.\")\n",
    "print(\"- The model can be further improved with more features and hyperparameter tuning.\")"
   ]
  },
  {
   "cell_type": "code",
   "execution_count": null,
   "id": "8c1e1fe0-f45e-4fa4-93a9-96e0820e35b4",
   "metadata": {},
   "outputs": [],
   "source": []
  }
 ],
 "metadata": {
  "kernelspec": {
   "display_name": "Python 3 (ipykernel)",
   "language": "python",
   "name": "python3"
  },
  "language_info": {
   "codemirror_mode": {
    "name": "ipython",
    "version": 3
   },
   "file_extension": ".py",
   "mimetype": "text/x-python",
   "name": "python",
   "nbconvert_exporter": "python",
   "pygments_lexer": "ipython3",
   "version": "3.12.7"
  }
 },
 "nbformat": 4,
 "nbformat_minor": 5
}
